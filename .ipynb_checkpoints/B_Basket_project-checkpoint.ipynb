{
 "cells": [
  {
   "cell_type": "code",
   "execution_count": 270,
   "id": "1de3403b-8184-4b0e-b961-3f5da8b61107",
   "metadata": {},
   "outputs": [],
   "source": [
    "import numpy as np\n",
    "import pandas as pd\n",
    "import matplotlib.pyplot as plt\n",
    "import seaborn as sns\n",
    "import warnings\n",
    "warnings.filterwarnings('ignore')"
   ]
  },
  {
   "cell_type": "code",
   "execution_count": 271,
   "id": "8da48398-5760-4cb0-9af6-385ab8e95260",
   "metadata": {},
   "outputs": [],
   "source": [
    "# 1. Load dataset\n",
    "df = pd.read_csv('BigBasket Products.csv')"
   ]
  },
  {
   "cell_type": "code",
   "execution_count": 272,
   "id": "758f3bb4-b79d-483e-8e1d-7b39a80be1eb",
   "metadata": {
    "scrolled": true
   },
   "outputs": [
    {
     "data": {
      "text/html": [
       "<div>\n",
       "<style scoped>\n",
       "    .dataframe tbody tr th:only-of-type {\n",
       "        vertical-align: middle;\n",
       "    }\n",
       "\n",
       "    .dataframe tbody tr th {\n",
       "        vertical-align: top;\n",
       "    }\n",
       "\n",
       "    .dataframe thead th {\n",
       "        text-align: right;\n",
       "    }\n",
       "</style>\n",
       "<table border=\"1\" class=\"dataframe\">\n",
       "  <thead>\n",
       "    <tr style=\"text-align: right;\">\n",
       "      <th></th>\n",
       "      <th>index</th>\n",
       "      <th>product</th>\n",
       "      <th>category</th>\n",
       "      <th>sub_category</th>\n",
       "      <th>brand</th>\n",
       "      <th>sale_price</th>\n",
       "      <th>market_price</th>\n",
       "      <th>type</th>\n",
       "      <th>rating</th>\n",
       "      <th>description</th>\n",
       "    </tr>\n",
       "  </thead>\n",
       "  <tbody>\n",
       "    <tr>\n",
       "      <th>0</th>\n",
       "      <td>1</td>\n",
       "      <td>Garlic Oil - Vegetarian Capsule 500 mg</td>\n",
       "      <td>Beauty &amp; Hygiene</td>\n",
       "      <td>Hair Care</td>\n",
       "      <td>Sri Sri Ayurveda</td>\n",
       "      <td>220.0</td>\n",
       "      <td>220.0</td>\n",
       "      <td>Hair Oil &amp; Serum</td>\n",
       "      <td>4.1</td>\n",
       "      <td>This Product contains Garlic Oil that is known...</td>\n",
       "    </tr>\n",
       "    <tr>\n",
       "      <th>1</th>\n",
       "      <td>2</td>\n",
       "      <td>Water Bottle - Orange</td>\n",
       "      <td>Kitchen, Garden &amp; Pets</td>\n",
       "      <td>Storage &amp; Accessories</td>\n",
       "      <td>Mastercook</td>\n",
       "      <td>180.0</td>\n",
       "      <td>180.0</td>\n",
       "      <td>Water &amp; Fridge Bottles</td>\n",
       "      <td>2.3</td>\n",
       "      <td>Each product is microwave safe (without lid), ...</td>\n",
       "    </tr>\n",
       "    <tr>\n",
       "      <th>2</th>\n",
       "      <td>3</td>\n",
       "      <td>Brass Angle Deep - Plain, No.2</td>\n",
       "      <td>Cleaning &amp; Household</td>\n",
       "      <td>Pooja Needs</td>\n",
       "      <td>Trm</td>\n",
       "      <td>119.0</td>\n",
       "      <td>250.0</td>\n",
       "      <td>Lamp &amp; Lamp Oil</td>\n",
       "      <td>3.4</td>\n",
       "      <td>A perfect gift for all occasions, be it your m...</td>\n",
       "    </tr>\n",
       "    <tr>\n",
       "      <th>3</th>\n",
       "      <td>4</td>\n",
       "      <td>Cereal Flip Lid Container/Storage Jar - Assort...</td>\n",
       "      <td>Cleaning &amp; Household</td>\n",
       "      <td>Bins &amp; Bathroom Ware</td>\n",
       "      <td>Nakoda</td>\n",
       "      <td>149.0</td>\n",
       "      <td>176.0</td>\n",
       "      <td>Laundry, Storage Baskets</td>\n",
       "      <td>3.7</td>\n",
       "      <td>Multipurpose container with an attractive desi...</td>\n",
       "    </tr>\n",
       "    <tr>\n",
       "      <th>4</th>\n",
       "      <td>5</td>\n",
       "      <td>Creme Soft Soap - For Hands &amp; Body</td>\n",
       "      <td>Beauty &amp; Hygiene</td>\n",
       "      <td>Bath &amp; Hand Wash</td>\n",
       "      <td>Nivea</td>\n",
       "      <td>162.0</td>\n",
       "      <td>162.0</td>\n",
       "      <td>Bathing Bars &amp; Soaps</td>\n",
       "      <td>4.4</td>\n",
       "      <td>Nivea Creme Soft Soap gives your skin the best...</td>\n",
       "    </tr>\n",
       "  </tbody>\n",
       "</table>\n",
       "</div>"
      ],
      "text/plain": [
       "   index                                            product  \\\n",
       "0      1             Garlic Oil - Vegetarian Capsule 500 mg   \n",
       "1      2                              Water Bottle - Orange   \n",
       "2      3                     Brass Angle Deep - Plain, No.2   \n",
       "3      4  Cereal Flip Lid Container/Storage Jar - Assort...   \n",
       "4      5                 Creme Soft Soap - For Hands & Body   \n",
       "\n",
       "                 category           sub_category              brand  \\\n",
       "0        Beauty & Hygiene              Hair Care  Sri Sri Ayurveda    \n",
       "1  Kitchen, Garden & Pets  Storage & Accessories         Mastercook   \n",
       "2    Cleaning & Household            Pooja Needs                Trm   \n",
       "3    Cleaning & Household   Bins & Bathroom Ware             Nakoda   \n",
       "4        Beauty & Hygiene       Bath & Hand Wash              Nivea   \n",
       "\n",
       "   sale_price  market_price                      type  rating  \\\n",
       "0       220.0         220.0          Hair Oil & Serum     4.1   \n",
       "1       180.0         180.0    Water & Fridge Bottles     2.3   \n",
       "2       119.0         250.0           Lamp & Lamp Oil     3.4   \n",
       "3       149.0         176.0  Laundry, Storage Baskets     3.7   \n",
       "4       162.0         162.0      Bathing Bars & Soaps     4.4   \n",
       "\n",
       "                                         description  \n",
       "0  This Product contains Garlic Oil that is known...  \n",
       "1  Each product is microwave safe (without lid), ...  \n",
       "2  A perfect gift for all occasions, be it your m...  \n",
       "3  Multipurpose container with an attractive desi...  \n",
       "4  Nivea Creme Soft Soap gives your skin the best...  "
      ]
     },
     "execution_count": 272,
     "metadata": {},
     "output_type": "execute_result"
    }
   ],
   "source": [
    "df.head()"
   ]
  },
  {
   "cell_type": "markdown",
   "id": "2b681454-5151-4758-8f92-1694f648e48c",
   "metadata": {},
   "source": [
    "# --> Description"
   ]
  },
  {
   "cell_type": "code",
   "execution_count": 273,
   "id": "d0cc25e6-ad2f-4f79-8038-bddc5e68ee26",
   "metadata": {},
   "outputs": [
    {
     "data": {
      "text/html": [
       "<div>\n",
       "<style scoped>\n",
       "    .dataframe tbody tr th:only-of-type {\n",
       "        vertical-align: middle;\n",
       "    }\n",
       "\n",
       "    .dataframe tbody tr th {\n",
       "        vertical-align: top;\n",
       "    }\n",
       "\n",
       "    .dataframe thead th {\n",
       "        text-align: right;\n",
       "    }\n",
       "</style>\n",
       "<table border=\"1\" class=\"dataframe\">\n",
       "  <thead>\n",
       "    <tr style=\"text-align: right;\">\n",
       "      <th></th>\n",
       "      <th>index</th>\n",
       "      <th>sale_price</th>\n",
       "      <th>market_price</th>\n",
       "      <th>rating</th>\n",
       "    </tr>\n",
       "  </thead>\n",
       "  <tbody>\n",
       "    <tr>\n",
       "      <th>count</th>\n",
       "      <td>27555.00000</td>\n",
       "      <td>27549.000000</td>\n",
       "      <td>27555.000000</td>\n",
       "      <td>18919.000000</td>\n",
       "    </tr>\n",
       "    <tr>\n",
       "      <th>mean</th>\n",
       "      <td>13778.00000</td>\n",
       "      <td>334.648391</td>\n",
       "      <td>382.056664</td>\n",
       "      <td>3.943295</td>\n",
       "    </tr>\n",
       "    <tr>\n",
       "      <th>std</th>\n",
       "      <td>7954.58767</td>\n",
       "      <td>1202.102113</td>\n",
       "      <td>581.730717</td>\n",
       "      <td>0.739217</td>\n",
       "    </tr>\n",
       "    <tr>\n",
       "      <th>min</th>\n",
       "      <td>1.00000</td>\n",
       "      <td>2.450000</td>\n",
       "      <td>3.000000</td>\n",
       "      <td>1.000000</td>\n",
       "    </tr>\n",
       "    <tr>\n",
       "      <th>25%</th>\n",
       "      <td>6889.50000</td>\n",
       "      <td>95.000000</td>\n",
       "      <td>100.000000</td>\n",
       "      <td>3.700000</td>\n",
       "    </tr>\n",
       "    <tr>\n",
       "      <th>50%</th>\n",
       "      <td>13778.00000</td>\n",
       "      <td>190.320000</td>\n",
       "      <td>220.000000</td>\n",
       "      <td>4.100000</td>\n",
       "    </tr>\n",
       "    <tr>\n",
       "      <th>75%</th>\n",
       "      <td>20666.50000</td>\n",
       "      <td>359.000000</td>\n",
       "      <td>425.000000</td>\n",
       "      <td>4.300000</td>\n",
       "    </tr>\n",
       "    <tr>\n",
       "      <th>max</th>\n",
       "      <td>27555.00000</td>\n",
       "      <td>112475.000000</td>\n",
       "      <td>12500.000000</td>\n",
       "      <td>5.000000</td>\n",
       "    </tr>\n",
       "  </tbody>\n",
       "</table>\n",
       "</div>"
      ],
      "text/plain": [
       "             index     sale_price  market_price        rating\n",
       "count  27555.00000   27549.000000  27555.000000  18919.000000\n",
       "mean   13778.00000     334.648391    382.056664      3.943295\n",
       "std     7954.58767    1202.102113    581.730717      0.739217\n",
       "min        1.00000       2.450000      3.000000      1.000000\n",
       "25%     6889.50000      95.000000    100.000000      3.700000\n",
       "50%    13778.00000     190.320000    220.000000      4.100000\n",
       "75%    20666.50000     359.000000    425.000000      4.300000\n",
       "max    27555.00000  112475.000000  12500.000000      5.000000"
      ]
     },
     "execution_count": 273,
     "metadata": {},
     "output_type": "execute_result"
    }
   ],
   "source": [
    "df.describe()"
   ]
  },
  {
   "cell_type": "markdown",
   "id": "19cdc25d-d999-475b-9df1-19057a149300",
   "metadata": {},
   "source": [
    "# --> Information"
   ]
  },
  {
   "cell_type": "code",
   "execution_count": 274,
   "id": "db48e5cb-1897-41aa-a897-9ee0e5f71300",
   "metadata": {
    "scrolled": true
   },
   "outputs": [
    {
     "name": "stdout",
     "output_type": "stream",
     "text": [
      "<class 'pandas.core.frame.DataFrame'>\n",
      "RangeIndex: 27555 entries, 0 to 27554\n",
      "Data columns (total 10 columns):\n",
      " #   Column        Non-Null Count  Dtype  \n",
      "---  ------        --------------  -----  \n",
      " 0   index         27555 non-null  int64  \n",
      " 1   product       27554 non-null  object \n",
      " 2   category      27555 non-null  object \n",
      " 3   sub_category  27555 non-null  object \n",
      " 4   brand         27554 non-null  object \n",
      " 5   sale_price    27549 non-null  float64\n",
      " 6   market_price  27555 non-null  float64\n",
      " 7   type          27555 non-null  object \n",
      " 8   rating        18919 non-null  float64\n",
      " 9   description   27440 non-null  object \n",
      "dtypes: float64(3), int64(1), object(6)\n",
      "memory usage: 2.1+ MB\n"
     ]
    }
   ],
   "source": [
    "df.info()"
   ]
  },
  {
   "cell_type": "markdown",
   "id": "ab8db530-e1a1-4e4d-b6ce-9b2b82e6b84a",
   "metadata": {},
   "source": [
    "# --> Check rows and columns"
   ]
  },
  {
   "cell_type": "code",
   "execution_count": 275,
   "id": "c458f144-9b2c-49b3-acc5-b22102e012d2",
   "metadata": {},
   "outputs": [
    {
     "data": {
      "text/plain": [
       "(27555, 10)"
      ]
     },
     "execution_count": 275,
     "metadata": {},
     "output_type": "execute_result"
    }
   ],
   "source": [
    "df.shape"
   ]
  },
  {
   "cell_type": "markdown",
   "id": "b02e7158-6ea6-4244-82a6-2bd70e283728",
   "metadata": {},
   "source": [
    "# --> Columns "
   ]
  },
  {
   "cell_type": "code",
   "execution_count": 276,
   "id": "80db431e-286f-484a-adf5-227795f90b69",
   "metadata": {},
   "outputs": [
    {
     "data": {
      "text/plain": [
       "Index(['index', 'product', 'category', 'sub_category', 'brand', 'sale_price',\n",
       "       'market_price', 'type', 'rating', 'description'],\n",
       "      dtype='object')"
      ]
     },
     "execution_count": 276,
     "metadata": {},
     "output_type": "execute_result"
    }
   ],
   "source": [
    "df.columns"
   ]
  },
  {
   "cell_type": "markdown",
   "id": "2ce37591-9961-43b0-a456-4d60c4b0573e",
   "metadata": {},
   "source": [
    "# --> Max & Min sold Products"
   ]
  },
  {
   "cell_type": "code",
   "execution_count": 277,
   "id": "ca9700bb-f82e-4edc-87f6-81d943089ebc",
   "metadata": {},
   "outputs": [],
   "source": [
    "max_sale = df.loc[df['sale_price'].idxmax()]"
   ]
  },
  {
   "cell_type": "code",
   "execution_count": 278,
   "id": "e6781543-082a-4009-a8ba-79f625998625",
   "metadata": {},
   "outputs": [
    {
     "data": {
      "text/plain": [
       "index                                                        1250\n",
       "product                                                 Beard Kit\n",
       "category                                         Beauty & Hygiene\n",
       "sub_category                                       Men's Grooming\n",
       "brand                                                  Uncle Tony\n",
       "sale_price                                               112475.0\n",
       "market_price                                               3300.0\n",
       "type                                           Combos & Gift Sets\n",
       "rating                                                        NaN\n",
       "description     The combination of a beard oil, a beard wash, ...\n",
       "Name: 1249, dtype: object"
      ]
     },
     "execution_count": 278,
     "metadata": {},
     "output_type": "execute_result"
    }
   ],
   "source": [
    "max_sale"
   ]
  },
  {
   "cell_type": "code",
   "execution_count": 279,
   "id": "5d16c289-dce8-4f21-bc0f-ff9945791f6d",
   "metadata": {},
   "outputs": [],
   "source": [
    "min_sale = df.loc[df['sale_price'].idxmin()]"
   ]
  },
  {
   "cell_type": "code",
   "execution_count": 280,
   "id": "75126cce-f8ef-4078-a3eb-03926dc13e8b",
   "metadata": {},
   "outputs": [
    {
     "data": {
      "text/plain": [
       "index                                                       26977\n",
       "product                                              Curry Leaves\n",
       "category                                      Fruits & Vegetables\n",
       "sub_category                                   Herbs & Seasonings\n",
       "brand                                                      Fresho\n",
       "sale_price                                                   2.45\n",
       "market_price                                                 15.0\n",
       "type                                        Indian & Exotic Herbs\n",
       "rating                                                        NaN\n",
       "description     With dark green and glossy appearance, curry l...\n",
       "Name: 26976, dtype: object"
      ]
     },
     "execution_count": 280,
     "metadata": {},
     "output_type": "execute_result"
    }
   ],
   "source": [
    "min_sale"
   ]
  },
  {
   "cell_type": "markdown",
   "id": "634680e2-a6e3-4725-9255-50b15050e4fb",
   "metadata": {},
   "source": [
    "# --> Check null values"
   ]
  },
  {
   "cell_type": "code",
   "execution_count": 281,
   "id": "ddd55a1d-796d-4a9a-b8d9-5bf75de75fc5",
   "metadata": {},
   "outputs": [
    {
     "data": {
      "text/plain": [
       "index              0\n",
       "product            1\n",
       "category           0\n",
       "sub_category       0\n",
       "brand              1\n",
       "sale_price         6\n",
       "market_price       0\n",
       "type               0\n",
       "rating          8636\n",
       "description      115\n",
       "dtype: int64"
      ]
     },
     "execution_count": 281,
     "metadata": {},
     "output_type": "execute_result"
    }
   ],
   "source": [
    "df.isna().sum()"
   ]
  },
  {
   "cell_type": "code",
   "execution_count": 282,
   "id": "e8e3b885-3d92-47fa-ab28-37c1f60419f8",
   "metadata": {},
   "outputs": [
    {
     "data": {
      "image/png": "[encoded data removed]",
      "text/plain": [
       "<Figure size 640x480 with 2 Axes>"
      ]
     },
     "metadata": {},
     "output_type": "display_data"
    }
   ],
   "source": [
    "sns.heatmap(df.isna())\n",
    "plt.show()"
   ]
  },
  {
   "cell_type": "code",
   "execution_count": 283,
   "id": "77dfba5a-969d-4987-88ad-480ced40ba79",
   "metadata": {},
   "outputs": [],
   "source": [
    "df['rating'] = df['rating'].fillna(df['rating'].mean())"
   ]
  },
  {
   "cell_type": "code",
   "execution_count": 284,
   "id": "70728cd1-71dc-49d9-ae7b-cbf074dde190",
   "metadata": {},
   "outputs": [
    {
     "data": {
      "text/plain": [
       "np.int64(0)"
      ]
     },
     "execution_count": 284,
     "metadata": {},
     "output_type": "execute_result"
    }
   ],
   "source": [
    "df['rating'].isna().sum()"
   ]
  },
  {
   "cell_type": "markdown",
   "id": "bf08f9a7-91c0-4695-b599-9eebea4e24b3",
   "metadata": {},
   "source": [
    "# --> Drop two columns"
   ]
  },
  {
   "cell_type": "code",
   "execution_count": 285,
   "id": "4be3e930-35e3-4855-835b-4c738c287c27",
   "metadata": {},
   "outputs": [],
   "source": [
    "df.drop(columns=['index','description'],inplace=True)"
   ]
  },
  {
   "cell_type": "code",
   "execution_count": 286,
   "id": "5f30bd76-ea72-4c5e-8c86-a0c6fe2a45a5",
   "metadata": {},
   "outputs": [
    {
     "data": {
      "text/html": [
       "<div>\n",
       "<style scoped>\n",
       "    .dataframe tbody tr th:only-of-type {\n",
       "        vertical-align: middle;\n",
       "    }\n",
       "\n",
       "    .dataframe tbody tr th {\n",
       "        vertical-align: top;\n",
       "    }\n",
       "\n",
       "    .dataframe thead th {\n",
       "        text-align: right;\n",
       "    }\n",
       "</style>\n",
       "<table border=\"1\" class=\"dataframe\">\n",
       "  <thead>\n",
       "    <tr style=\"text-align: right;\">\n",
       "      <th></th>\n",
       "      <th>product</th>\n",
       "      <th>category</th>\n",
       "      <th>sub_category</th>\n",
       "      <th>brand</th>\n",
       "      <th>sale_price</th>\n",
       "      <th>market_price</th>\n",
       "      <th>type</th>\n",
       "      <th>rating</th>\n",
       "    </tr>\n",
       "  </thead>\n",
       "  <tbody>\n",
       "    <tr>\n",
       "      <th>0</th>\n",
       "      <td>Garlic Oil - Vegetarian Capsule 500 mg</td>\n",
       "      <td>Beauty &amp; Hygiene</td>\n",
       "      <td>Hair Care</td>\n",
       "      <td>Sri Sri Ayurveda</td>\n",
       "      <td>220.0</td>\n",
       "      <td>220.0</td>\n",
       "      <td>Hair Oil &amp; Serum</td>\n",
       "      <td>4.1</td>\n",
       "    </tr>\n",
       "    <tr>\n",
       "      <th>1</th>\n",
       "      <td>Water Bottle - Orange</td>\n",
       "      <td>Kitchen, Garden &amp; Pets</td>\n",
       "      <td>Storage &amp; Accessories</td>\n",
       "      <td>Mastercook</td>\n",
       "      <td>180.0</td>\n",
       "      <td>180.0</td>\n",
       "      <td>Water &amp; Fridge Bottles</td>\n",
       "      <td>2.3</td>\n",
       "    </tr>\n",
       "    <tr>\n",
       "      <th>2</th>\n",
       "      <td>Brass Angle Deep - Plain, No.2</td>\n",
       "      <td>Cleaning &amp; Household</td>\n",
       "      <td>Pooja Needs</td>\n",
       "      <td>Trm</td>\n",
       "      <td>119.0</td>\n",
       "      <td>250.0</td>\n",
       "      <td>Lamp &amp; Lamp Oil</td>\n",
       "      <td>3.4</td>\n",
       "    </tr>\n",
       "    <tr>\n",
       "      <th>3</th>\n",
       "      <td>Cereal Flip Lid Container/Storage Jar - Assort...</td>\n",
       "      <td>Cleaning &amp; Household</td>\n",
       "      <td>Bins &amp; Bathroom Ware</td>\n",
       "      <td>Nakoda</td>\n",
       "      <td>149.0</td>\n",
       "      <td>176.0</td>\n",
       "      <td>Laundry, Storage Baskets</td>\n",
       "      <td>3.7</td>\n",
       "    </tr>\n",
       "    <tr>\n",
       "      <th>4</th>\n",
       "      <td>Creme Soft Soap - For Hands &amp; Body</td>\n",
       "      <td>Beauty &amp; Hygiene</td>\n",
       "      <td>Bath &amp; Hand Wash</td>\n",
       "      <td>Nivea</td>\n",
       "      <td>162.0</td>\n",
       "      <td>162.0</td>\n",
       "      <td>Bathing Bars &amp; Soaps</td>\n",
       "      <td>4.4</td>\n",
       "    </tr>\n",
       "  </tbody>\n",
       "</table>\n",
       "</div>"
      ],
      "text/plain": [
       "                                             product                category  \\\n",
       "0             Garlic Oil - Vegetarian Capsule 500 mg        Beauty & Hygiene   \n",
       "1                              Water Bottle - Orange  Kitchen, Garden & Pets   \n",
       "2                     Brass Angle Deep - Plain, No.2    Cleaning & Household   \n",
       "3  Cereal Flip Lid Container/Storage Jar - Assort...    Cleaning & Household   \n",
       "4                 Creme Soft Soap - For Hands & Body        Beauty & Hygiene   \n",
       "\n",
       "            sub_category              brand  sale_price  market_price  \\\n",
       "0              Hair Care  Sri Sri Ayurveda        220.0         220.0   \n",
       "1  Storage & Accessories         Mastercook       180.0         180.0   \n",
       "2            Pooja Needs                Trm       119.0         250.0   \n",
       "3   Bins & Bathroom Ware             Nakoda       149.0         176.0   \n",
       "4       Bath & Hand Wash              Nivea       162.0         162.0   \n",
       "\n",
       "                       type  rating  \n",
       "0          Hair Oil & Serum     4.1  \n",
       "1    Water & Fridge Bottles     2.3  \n",
       "2           Lamp & Lamp Oil     3.4  \n",
       "3  Laundry, Storage Baskets     3.7  \n",
       "4      Bathing Bars & Soaps     4.4  "
      ]
     },
     "execution_count": 286,
     "metadata": {},
     "output_type": "execute_result"
    }
   ],
   "source": [
    "df.head()"
   ]
  },
  {
   "cell_type": "markdown",
   "id": "8503dfae-752c-4ea6-9d54-975d779deaf8",
   "metadata": {},
   "source": [
    "# --> Check Outliers"
   ]
  },
  {
   "cell_type": "code",
   "execution_count": 287,
   "id": "84784def-33b2-4d73-8f32-6b5b1ff4af55",
   "metadata": {},
   "outputs": [
    {
     "data": {
      "text/plain": [
       "<Axes: xlabel='market_price'>"
      ]
     },
     "execution_count": 287,
     "metadata": {},
     "output_type": "execute_result"
    },
    {
     "data": {
      "image/png": "[encoded data removed]",
      "text/plain": [
       "<Figure size 640x480 with 1 Axes>"
      ]
     },
     "metadata": {},
     "output_type": "display_data"
    }
   ],
   "source": [
    "sns.boxplot(df['market_price'],orient='h')"
   ]
  },
  {
   "cell_type": "code",
   "execution_count": 288,
   "id": "146beeaf-2dd6-4024-b960-a9282800629c",
   "metadata": {},
   "outputs": [
    {
     "data": {
      "text/plain": [
       "(np.float64(100.0), np.float64(425.0))"
      ]
     },
     "execution_count": 288,
     "metadata": {},
     "output_type": "execute_result"
    }
   ],
   "source": [
    "Q1 = df['market_price'].quantile(0.25)\n",
    "Q3 = df['market_price'].quantile(0.75)\n",
    "Q1,Q3"
   ]
  },
  {
   "cell_type": "code",
   "execution_count": 289,
   "id": "89eb7627-edb5-4f80-80c0-00627aef736e",
   "metadata": {},
   "outputs": [
    {
     "data": {
      "text/plain": [
       "np.float64(325.0)"
      ]
     },
     "execution_count": 289,
     "metadata": {},
     "output_type": "execute_result"
    }
   ],
   "source": [
    "IQR = Q3 - Q1\n",
    "IQR"
   ]
  },
  {
   "cell_type": "code",
   "execution_count": 290,
   "id": "343472fb-b8c8-484d-ba9e-121260f84d22",
   "metadata": {},
   "outputs": [
    {
     "data": {
      "text/plain": [
       "(np.float64(-387.5), np.float64(912.5))"
      ]
     },
     "execution_count": 290,
     "metadata": {},
     "output_type": "execute_result"
    }
   ],
   "source": [
    "LL = Q1 - 1.5*IQR\n",
    "UL = Q3 + 1.5*IQR\n",
    "LL,UL"
   ]
  },
  {
   "cell_type": "code",
   "execution_count": 291,
   "id": "ff0dab5a-ef9b-4e86-bee3-31dbb2f3841c",
   "metadata": {},
   "outputs": [
    {
     "data": {
      "text/html": [
       "<div>\n",
       "<style scoped>\n",
       "    .dataframe tbody tr th:only-of-type {\n",
       "        vertical-align: middle;\n",
       "    }\n",
       "\n",
       "    .dataframe tbody tr th {\n",
       "        vertical-align: top;\n",
       "    }\n",
       "\n",
       "    .dataframe thead th {\n",
       "        text-align: right;\n",
       "    }\n",
       "</style>\n",
       "<table border=\"1\" class=\"dataframe\">\n",
       "  <thead>\n",
       "    <tr style=\"text-align: right;\">\n",
       "      <th></th>\n",
       "      <th>product</th>\n",
       "      <th>category</th>\n",
       "      <th>sub_category</th>\n",
       "      <th>brand</th>\n",
       "      <th>sale_price</th>\n",
       "      <th>market_price</th>\n",
       "      <th>type</th>\n",
       "      <th>rating</th>\n",
       "    </tr>\n",
       "  </thead>\n",
       "  <tbody>\n",
       "    <tr>\n",
       "      <th>8</th>\n",
       "      <td>Biotin &amp; Collagen Volumizing Hair Shampoo + Bi...</td>\n",
       "      <td>Beauty &amp; Hygiene</td>\n",
       "      <td>Hair Care</td>\n",
       "      <td>StBotanica</td>\n",
       "      <td>1098.00</td>\n",
       "      <td>1098.0</td>\n",
       "      <td>Shampoo &amp; Conditioner</td>\n",
       "      <td>3.500000</td>\n",
       "    </tr>\n",
       "    <tr>\n",
       "      <th>34</th>\n",
       "      <td>Pet Solitaire Container Set - Silver</td>\n",
       "      <td>Kitchen, Garden &amp; Pets</td>\n",
       "      <td>Storage &amp; Accessories</td>\n",
       "      <td>Steelo</td>\n",
       "      <td>499.00</td>\n",
       "      <td>969.0</td>\n",
       "      <td>Containers Sets</td>\n",
       "      <td>3.900000</td>\n",
       "    </tr>\n",
       "    <tr>\n",
       "      <th>96</th>\n",
       "      <td>Hair Remover Spray - Foam Lemon</td>\n",
       "      <td>Beauty &amp; Hygiene</td>\n",
       "      <td>Feminine Hygiene</td>\n",
       "      <td>Dimples</td>\n",
       "      <td>1200.00</td>\n",
       "      <td>1200.0</td>\n",
       "      <td>Hair Removal</td>\n",
       "      <td>3.943295</td>\n",
       "    </tr>\n",
       "    <tr>\n",
       "      <th>99</th>\n",
       "      <td>Wonder Diaper Pants - Xtra Large, 12-17 Kg</td>\n",
       "      <td>Baby Care</td>\n",
       "      <td>Diapers &amp; Wipes</td>\n",
       "      <td>Huggies</td>\n",
       "      <td>1266.38</td>\n",
       "      <td>1398.0</td>\n",
       "      <td>Diapers</td>\n",
       "      <td>4.000000</td>\n",
       "    </tr>\n",
       "  </tbody>\n",
       "</table>\n",
       "</div>"
      ],
      "text/plain": [
       "                                              product                category  \\\n",
       "8   Biotin & Collagen Volumizing Hair Shampoo + Bi...        Beauty & Hygiene   \n",
       "34               Pet Solitaire Container Set - Silver  Kitchen, Garden & Pets   \n",
       "96                    Hair Remover Spray - Foam Lemon        Beauty & Hygiene   \n",
       "99         Wonder Diaper Pants - Xtra Large, 12-17 Kg               Baby Care   \n",
       "\n",
       "             sub_category       brand  sale_price  market_price  \\\n",
       "8               Hair Care  StBotanica     1098.00        1098.0   \n",
       "34  Storage & Accessories      Steelo      499.00         969.0   \n",
       "96       Feminine Hygiene     Dimples     1200.00        1200.0   \n",
       "99        Diapers & Wipes     Huggies     1266.38        1398.0   \n",
       "\n",
       "                     type    rating  \n",
       "8   Shampoo & Conditioner  3.500000  \n",
       "34        Containers Sets  3.900000  \n",
       "96           Hair Removal  3.943295  \n",
       "99                Diapers  4.000000  "
      ]
     },
     "execution_count": 291,
     "metadata": {},
     "output_type": "execute_result"
    }
   ],
   "source": [
    "df[(df['market_price'] > UL) | (df['market_price'] < LL)].head(4)"
   ]
  },
  {
   "cell_type": "code",
   "execution_count": 292,
   "id": "dbdd2f28-af1b-407a-a20d-a49bf7eb664c",
   "metadata": {},
   "outputs": [],
   "source": [
    "df = df[(df['market_price'] >= LL) & (df['market_price'] <= UL)]"
   ]
  },
  {
   "cell_type": "code",
   "execution_count": 293,
   "id": "2a91f79c-32f8-4937-810e-60ee486b634a",
   "metadata": {},
   "outputs": [
    {
     "data": {
      "text/html": [
       "<div>\n",
       "<style scoped>\n",
       "    .dataframe tbody tr th:only-of-type {\n",
       "        vertical-align: middle;\n",
       "    }\n",
       "\n",
       "    .dataframe tbody tr th {\n",
       "        vertical-align: top;\n",
       "    }\n",
       "\n",
       "    .dataframe thead th {\n",
       "        text-align: right;\n",
       "    }\n",
       "</style>\n",
       "<table border=\"1\" class=\"dataframe\">\n",
       "  <thead>\n",
       "    <tr style=\"text-align: right;\">\n",
       "      <th></th>\n",
       "      <th>product</th>\n",
       "      <th>category</th>\n",
       "      <th>sub_category</th>\n",
       "      <th>brand</th>\n",
       "      <th>sale_price</th>\n",
       "      <th>market_price</th>\n",
       "      <th>type</th>\n",
       "      <th>rating</th>\n",
       "    </tr>\n",
       "  </thead>\n",
       "  <tbody>\n",
       "    <tr>\n",
       "      <th>0</th>\n",
       "      <td>Garlic Oil - Vegetarian Capsule 500 mg</td>\n",
       "      <td>Beauty &amp; Hygiene</td>\n",
       "      <td>Hair Care</td>\n",
       "      <td>Sri Sri Ayurveda</td>\n",
       "      <td>220.0</td>\n",
       "      <td>220.0</td>\n",
       "      <td>Hair Oil &amp; Serum</td>\n",
       "      <td>4.1</td>\n",
       "    </tr>\n",
       "    <tr>\n",
       "      <th>1</th>\n",
       "      <td>Water Bottle - Orange</td>\n",
       "      <td>Kitchen, Garden &amp; Pets</td>\n",
       "      <td>Storage &amp; Accessories</td>\n",
       "      <td>Mastercook</td>\n",
       "      <td>180.0</td>\n",
       "      <td>180.0</td>\n",
       "      <td>Water &amp; Fridge Bottles</td>\n",
       "      <td>2.3</td>\n",
       "    </tr>\n",
       "    <tr>\n",
       "      <th>2</th>\n",
       "      <td>Brass Angle Deep - Plain, No.2</td>\n",
       "      <td>Cleaning &amp; Household</td>\n",
       "      <td>Pooja Needs</td>\n",
       "      <td>Trm</td>\n",
       "      <td>119.0</td>\n",
       "      <td>250.0</td>\n",
       "      <td>Lamp &amp; Lamp Oil</td>\n",
       "      <td>3.4</td>\n",
       "    </tr>\n",
       "    <tr>\n",
       "      <th>3</th>\n",
       "      <td>Cereal Flip Lid Container/Storage Jar - Assort...</td>\n",
       "      <td>Cleaning &amp; Household</td>\n",
       "      <td>Bins &amp; Bathroom Ware</td>\n",
       "      <td>Nakoda</td>\n",
       "      <td>149.0</td>\n",
       "      <td>176.0</td>\n",
       "      <td>Laundry, Storage Baskets</td>\n",
       "      <td>3.7</td>\n",
       "    </tr>\n",
       "    <tr>\n",
       "      <th>4</th>\n",
       "      <td>Creme Soft Soap - For Hands &amp; Body</td>\n",
       "      <td>Beauty &amp; Hygiene</td>\n",
       "      <td>Bath &amp; Hand Wash</td>\n",
       "      <td>Nivea</td>\n",
       "      <td>162.0</td>\n",
       "      <td>162.0</td>\n",
       "      <td>Bathing Bars &amp; Soaps</td>\n",
       "      <td>4.4</td>\n",
       "    </tr>\n",
       "  </tbody>\n",
       "</table>\n",
       "</div>"
      ],
      "text/plain": [
       "                                             product                category  \\\n",
       "0             Garlic Oil - Vegetarian Capsule 500 mg        Beauty & Hygiene   \n",
       "1                              Water Bottle - Orange  Kitchen, Garden & Pets   \n",
       "2                     Brass Angle Deep - Plain, No.2    Cleaning & Household   \n",
       "3  Cereal Flip Lid Container/Storage Jar - Assort...    Cleaning & Household   \n",
       "4                 Creme Soft Soap - For Hands & Body        Beauty & Hygiene   \n",
       "\n",
       "            sub_category              brand  sale_price  market_price  \\\n",
       "0              Hair Care  Sri Sri Ayurveda        220.0         220.0   \n",
       "1  Storage & Accessories         Mastercook       180.0         180.0   \n",
       "2            Pooja Needs                Trm       119.0         250.0   \n",
       "3   Bins & Bathroom Ware             Nakoda       149.0         176.0   \n",
       "4       Bath & Hand Wash              Nivea       162.0         162.0   \n",
       "\n",
       "                       type  rating  \n",
       "0          Hair Oil & Serum     4.1  \n",
       "1    Water & Fridge Bottles     2.3  \n",
       "2           Lamp & Lamp Oil     3.4  \n",
       "3  Laundry, Storage Baskets     3.7  \n",
       "4      Bathing Bars & Soaps     4.4  "
      ]
     },
     "execution_count": 293,
     "metadata": {},
     "output_type": "execute_result"
    }
   ],
   "source": [
    "df.head()"
   ]
  },
  {
   "cell_type": "code",
   "execution_count": 305,
   "id": "5f7ef435-62d0-42e6-9c9a-358ce4614046",
   "metadata": {},
   "outputs": [
    {
     "name": "stdout",
     "output_type": "stream",
     "text": [
      "new_data:  5\n"
     ]
    }
   ],
   "source": [
    "print('new_data: ', len(df))"
   ]
  },
  {
   "cell_type": "code",
   "execution_count": 295,
   "id": "210355a7-5e17-4e2e-bcd5-b635cc6424ab",
   "metadata": {
    "scrolled": true
   },
   "outputs": [
    {
     "data": {
      "text/plain": [
       "<Axes: ylabel='market_price'>"
      ]
     },
     "execution_count": 295,
     "metadata": {},
     "output_type": "execute_result"
    },
    {
     "data": {
      "image/png": "[encoded data removed]",
      "text/plain": [
       "<Figure size 640x480 with 1 Axes>"
      ]
     },
     "metadata": {},
     "output_type": "display_data"
    }
   ],
   "source": [
    "sns.boxplot(new_data['market_price'])"
   ]
  },
  {
   "cell_type": "markdown",
   "id": "69f0dafa-446f-4d47-8215-2c013bda7e6c",
   "metadata": {},
   "source": [
    "# --> sale Price"
   ]
  },
  {
   "cell_type": "code",
   "execution_count": 296,
   "id": "9e05e390-bc94-4813-8c14-d9e227481fec",
   "metadata": {},
   "outputs": [
    {
     "data": {
      "text/plain": [
       "<Axes: ylabel='sale_price'>"
      ]
     },
     "execution_count": 296,
     "metadata": {},
     "output_type": "execute_result"
    },
    {
     "data": {
      "image/png": "[encoded data removed]",
      "text/plain": [
       "<Figure size 640x480 with 1 Axes>"
      ]
     },
     "metadata": {},
     "output_type": "display_data"
    }
   ],
   "source": [
    "sns.boxplot(df['sale_price'])"
   ]
  },
  {
   "cell_type": "code",
   "execution_count": 298,
   "id": "403589dc-d6f6-4203-b4d8-e04e83d99fb5",
   "metadata": {},
   "outputs": [
    {
     "data": {
      "text/plain": [
       "(np.float64(89.0), np.float64(300.0))"
      ]
     },
     "execution_count": 298,
     "metadata": {},
     "output_type": "execute_result"
    }
   ],
   "source": [
    "Q1 = df['sale_price'].quantile(0.25)\n",
    "Q3 = df['sale_price'].quantile(0.75)\n",
    "Q1,Q3"
   ]
  },
  {
   "cell_type": "code",
   "execution_count": 299,
   "id": "87aa5f1d-2954-4a03-aa02-9234348d19e1",
   "metadata": {},
   "outputs": [
    {
     "data": {
      "text/plain": [
       "np.float64(211.0)"
      ]
     },
     "execution_count": 299,
     "metadata": {},
     "output_type": "execute_result"
    }
   ],
   "source": [
    "IQR = Q3 - Q1\n",
    "IQR"
   ]
  },
  {
   "cell_type": "code",
   "execution_count": 300,
   "id": "894b6001-7b3b-4bbf-9a4a-bd780efb45d5",
   "metadata": {},
   "outputs": [
    {
     "data": {
      "text/plain": [
       "(np.float64(616.5), np.float64(-227.5))"
      ]
     },
     "execution_count": 300,
     "metadata": {},
     "output_type": "execute_result"
    }
   ],
   "source": [
    "UL = Q3 + 1.5*IQR\n",
    "LL = Q1 - 1.5*IQR\n",
    "UL,LL"
   ]
  },
  {
   "cell_type": "code",
   "execution_count": 301,
   "id": "ecb6b990-1d11-46cc-9a9f-6abc71b6686f",
   "metadata": {},
   "outputs": [
    {
     "data": {
      "text/html": [
       "<div>\n",
       "<style scoped>\n",
       "    .dataframe tbody tr th:only-of-type {\n",
       "        vertical-align: middle;\n",
       "    }\n",
       "\n",
       "    .dataframe tbody tr th {\n",
       "        vertical-align: top;\n",
       "    }\n",
       "\n",
       "    .dataframe thead th {\n",
       "        text-align: right;\n",
       "    }\n",
       "</style>\n",
       "<table border=\"1\" class=\"dataframe\">\n",
       "  <thead>\n",
       "    <tr style=\"text-align: right;\">\n",
       "      <th></th>\n",
       "      <th>product</th>\n",
       "      <th>category</th>\n",
       "      <th>sub_category</th>\n",
       "      <th>brand</th>\n",
       "      <th>sale_price</th>\n",
       "      <th>market_price</th>\n",
       "      <th>type</th>\n",
       "      <th>rating</th>\n",
       "    </tr>\n",
       "  </thead>\n",
       "  <tbody>\n",
       "    <tr>\n",
       "      <th>25</th>\n",
       "      <td>Insulated Hot Fresh Casserole For Roti/Chapati...</td>\n",
       "      <td>Kitchen, Garden &amp; Pets</td>\n",
       "      <td>Flask &amp; Casserole</td>\n",
       "      <td>Cello</td>\n",
       "      <td>659.0</td>\n",
       "      <td>895.0</td>\n",
       "      <td>Casserole</td>\n",
       "      <td>3.300000</td>\n",
       "    </tr>\n",
       "    <tr>\n",
       "      <th>47</th>\n",
       "      <td>Colour Catcher Sheets</td>\n",
       "      <td>Cleaning &amp; Household</td>\n",
       "      <td>All Purpose Cleaners</td>\n",
       "      <td>Dylon</td>\n",
       "      <td>799.0</td>\n",
       "      <td>799.0</td>\n",
       "      <td>Imported Cleaners</td>\n",
       "      <td>4.000000</td>\n",
       "    </tr>\n",
       "    <tr>\n",
       "      <th>51</th>\n",
       "      <td>Peach Syrup</td>\n",
       "      <td>Gourmet &amp; World Food</td>\n",
       "      <td>Drinks &amp; Beverages</td>\n",
       "      <td>Pekers</td>\n",
       "      <td>850.0</td>\n",
       "      <td>850.0</td>\n",
       "      <td>Gourmet Juices &amp; Drinks</td>\n",
       "      <td>4.200000</td>\n",
       "    </tr>\n",
       "    <tr>\n",
       "      <th>69</th>\n",
       "      <td>Padded Harness - 3/4 inch, Grey Colour</td>\n",
       "      <td>Kitchen, Garden &amp; Pets</td>\n",
       "      <td>Pet Food &amp; Accessories</td>\n",
       "      <td>Glenand</td>\n",
       "      <td>840.0</td>\n",
       "      <td>840.0</td>\n",
       "      <td>Pet Collars &amp; Leashes</td>\n",
       "      <td>3.943295</td>\n",
       "    </tr>\n",
       "    <tr>\n",
       "      <th>86</th>\n",
       "      <td>Cheese - Feta Greek, Block</td>\n",
       "      <td>Gourmet &amp; World Food</td>\n",
       "      <td>Dairy &amp; Cheese</td>\n",
       "      <td>Fresho Signature</td>\n",
       "      <td>695.7</td>\n",
       "      <td>773.0</td>\n",
       "      <td>International Cheese</td>\n",
       "      <td>3.943295</td>\n",
       "    </tr>\n",
       "  </tbody>\n",
       "</table>\n",
       "</div>"
      ],
      "text/plain": [
       "                                              product                category  \\\n",
       "25  Insulated Hot Fresh Casserole For Roti/Chapati...  Kitchen, Garden & Pets   \n",
       "47                              Colour Catcher Sheets    Cleaning & Household   \n",
       "51                                        Peach Syrup    Gourmet & World Food   \n",
       "69             Padded Harness - 3/4 inch, Grey Colour  Kitchen, Garden & Pets   \n",
       "86                         Cheese - Feta Greek, Block    Gourmet & World Food   \n",
       "\n",
       "              sub_category             brand  sale_price  market_price  \\\n",
       "25       Flask & Casserole             Cello       659.0         895.0   \n",
       "47    All Purpose Cleaners            Dylon        799.0         799.0   \n",
       "51      Drinks & Beverages            Pekers       850.0         850.0   \n",
       "69  Pet Food & Accessories           Glenand       840.0         840.0   \n",
       "86          Dairy & Cheese  Fresho Signature       695.7         773.0   \n",
       "\n",
       "                       type    rating  \n",
       "25                Casserole  3.300000  \n",
       "47        Imported Cleaners  4.000000  \n",
       "51  Gourmet Juices & Drinks  4.200000  \n",
       "69    Pet Collars & Leashes  3.943295  \n",
       "86     International Cheese  3.943295  "
      ]
     },
     "execution_count": 301,
     "metadata": {},
     "output_type": "execute_result"
    }
   ],
   "source": [
    "df[(df['sale_price'] > UL) | (df['sale_price'] < LL)].head()"
   ]
  },
  {
   "cell_type": "code",
   "execution_count": 302,
   "id": "0db7f883-206f-46af-80dc-5c61e6d9c605",
   "metadata": {},
   "outputs": [
    {
     "data": {
      "text/html": [
       "<div>\n",
       "<style scoped>\n",
       "    .dataframe tbody tr th:only-of-type {\n",
       "        vertical-align: middle;\n",
       "    }\n",
       "\n",
       "    .dataframe tbody tr th {\n",
       "        vertical-align: top;\n",
       "    }\n",
       "\n",
       "    .dataframe thead th {\n",
       "        text-align: right;\n",
       "    }\n",
       "</style>\n",
       "<table border=\"1\" class=\"dataframe\">\n",
       "  <thead>\n",
       "    <tr style=\"text-align: right;\">\n",
       "      <th></th>\n",
       "      <th>product</th>\n",
       "      <th>category</th>\n",
       "      <th>sub_category</th>\n",
       "      <th>brand</th>\n",
       "      <th>sale_price</th>\n",
       "      <th>market_price</th>\n",
       "      <th>type</th>\n",
       "      <th>rating</th>\n",
       "    </tr>\n",
       "  </thead>\n",
       "  <tbody>\n",
       "    <tr>\n",
       "      <th>0</th>\n",
       "      <td>Garlic Oil - Vegetarian Capsule 500 mg</td>\n",
       "      <td>Beauty &amp; Hygiene</td>\n",
       "      <td>Hair Care</td>\n",
       "      <td>Sri Sri Ayurveda</td>\n",
       "      <td>220.0</td>\n",
       "      <td>220.0</td>\n",
       "      <td>Hair Oil &amp; Serum</td>\n",
       "      <td>4.1</td>\n",
       "    </tr>\n",
       "    <tr>\n",
       "      <th>1</th>\n",
       "      <td>Water Bottle - Orange</td>\n",
       "      <td>Kitchen, Garden &amp; Pets</td>\n",
       "      <td>Storage &amp; Accessories</td>\n",
       "      <td>Mastercook</td>\n",
       "      <td>180.0</td>\n",
       "      <td>180.0</td>\n",
       "      <td>Water &amp; Fridge Bottles</td>\n",
       "      <td>2.3</td>\n",
       "    </tr>\n",
       "    <tr>\n",
       "      <th>2</th>\n",
       "      <td>Brass Angle Deep - Plain, No.2</td>\n",
       "      <td>Cleaning &amp; Household</td>\n",
       "      <td>Pooja Needs</td>\n",
       "      <td>Trm</td>\n",
       "      <td>119.0</td>\n",
       "      <td>250.0</td>\n",
       "      <td>Lamp &amp; Lamp Oil</td>\n",
       "      <td>3.4</td>\n",
       "    </tr>\n",
       "    <tr>\n",
       "      <th>3</th>\n",
       "      <td>Cereal Flip Lid Container/Storage Jar - Assort...</td>\n",
       "      <td>Cleaning &amp; Household</td>\n",
       "      <td>Bins &amp; Bathroom Ware</td>\n",
       "      <td>Nakoda</td>\n",
       "      <td>149.0</td>\n",
       "      <td>176.0</td>\n",
       "      <td>Laundry, Storage Baskets</td>\n",
       "      <td>3.7</td>\n",
       "    </tr>\n",
       "    <tr>\n",
       "      <th>4</th>\n",
       "      <td>Creme Soft Soap - For Hands &amp; Body</td>\n",
       "      <td>Beauty &amp; Hygiene</td>\n",
       "      <td>Bath &amp; Hand Wash</td>\n",
       "      <td>Nivea</td>\n",
       "      <td>162.0</td>\n",
       "      <td>162.0</td>\n",
       "      <td>Bathing Bars &amp; Soaps</td>\n",
       "      <td>4.4</td>\n",
       "    </tr>\n",
       "  </tbody>\n",
       "</table>\n",
       "</div>"
      ],
      "text/plain": [
       "                                             product                category  \\\n",
       "0             Garlic Oil - Vegetarian Capsule 500 mg        Beauty & Hygiene   \n",
       "1                              Water Bottle - Orange  Kitchen, Garden & Pets   \n",
       "2                     Brass Angle Deep - Plain, No.2    Cleaning & Household   \n",
       "3  Cereal Flip Lid Container/Storage Jar - Assort...    Cleaning & Household   \n",
       "4                 Creme Soft Soap - For Hands & Body        Beauty & Hygiene   \n",
       "\n",
       "            sub_category              brand  sale_price  market_price  \\\n",
       "0              Hair Care  Sri Sri Ayurveda        220.0         220.0   \n",
       "1  Storage & Accessories         Mastercook       180.0         180.0   \n",
       "2            Pooja Needs                Trm       119.0         250.0   \n",
       "3   Bins & Bathroom Ware             Nakoda       149.0         176.0   \n",
       "4       Bath & Hand Wash              Nivea       162.0         162.0   \n",
       "\n",
       "                       type  rating  \n",
       "0          Hair Oil & Serum     4.1  \n",
       "1    Water & Fridge Bottles     2.3  \n",
       "2           Lamp & Lamp Oil     3.4  \n",
       "3  Laundry, Storage Baskets     3.7  \n",
       "4      Bathing Bars & Soaps     4.4  "
      ]
     },
     "execution_count": 302,
     "metadata": {},
     "output_type": "execute_result"
    }
   ],
   "source": [
    "df = df[(df['sale_price'] <= UL) & (df['sale_price'] >= LL)].head()\n",
    "df.head()"
   ]
  },
  {
   "cell_type": "code",
   "execution_count": 303,
   "id": "dae34206-8a85-423b-8c49-77967f1a559d",
   "metadata": {},
   "outputs": [
    {
     "data": {
      "text/plain": [
       "<Axes: ylabel='sale_price'>"
      ]
     },
     "execution_count": 303,
     "metadata": {},
     "output_type": "execute_result"
    },
    {
     "data": {
      "image/png": "[encoded data removed]",
      "text/plain": [
       "<Figure size 640x480 with 1 Axes>"
      ]
     },
     "metadata": {},
     "output_type": "display_data"
    }
   ],
   "source": [
    "sns.boxplot(df['sale_price'])"
   ]
  },
  {
   "cell_type": "code",
   "execution_count": 304,
   "id": "88298541-b0db-4dd1-815f-b06c98dc67f0",
   "metadata": {},
   "outputs": [
    {
     "name": "stdout",
     "output_type": "stream",
     "text": [
      "Old_Data: 5\n",
      "New_Data: 5\n"
     ]
    }
   ],
   "source": [
    "print('Old_Data:', len(df))\n",
    "print('New_Data:', len(df))"
   ]
  },
  {
   "cell_type": "markdown",
   "id": "dc877a3c-a6c2-444e-a26f-b714bc5c76aa",
   "metadata": {},
   "source": [
    "# --> Add Discount Column"
   ]
  },
  {
   "cell_type": "code",
   "execution_count": 306,
   "id": "d034c499-c219-42ea-9fe9-8c058afa8ce0",
   "metadata": {},
   "outputs": [],
   "source": [
    "df['discount'] = ((df['market_price'] - df['sale_price']) / df['market_price']) * 100\n",
    "\n",
    "#top_discounted = df.sort_values(by='discount', ascending=False)"
   ]
  },
  {
   "cell_type": "code",
   "execution_count": 307,
   "id": "834af742-c2fb-4265-8e06-ce2ae7683f26",
   "metadata": {},
   "outputs": [],
   "source": [
    "df['discount'] = df['market_price'] - df['sale_price']"
   ]
  },
  {
   "cell_type": "code",
   "execution_count": 308,
   "id": "a5bb1c29-d01e-49ef-97aa-f7da7d07f545",
   "metadata": {},
   "outputs": [
    {
     "data": {
      "text/html": [
       "<div>\n",
       "<style scoped>\n",
       "    .dataframe tbody tr th:only-of-type {\n",
       "        vertical-align: middle;\n",
       "    }\n",
       "\n",
       "    .dataframe tbody tr th {\n",
       "        vertical-align: top;\n",
       "    }\n",
       "\n",
       "    .dataframe thead th {\n",
       "        text-align: right;\n",
       "    }\n",
       "</style>\n",
       "<table border=\"1\" class=\"dataframe\">\n",
       "  <thead>\n",
       "    <tr style=\"text-align: right;\">\n",
       "      <th></th>\n",
       "      <th>product</th>\n",
       "      <th>category</th>\n",
       "      <th>sub_category</th>\n",
       "      <th>brand</th>\n",
       "      <th>sale_price</th>\n",
       "      <th>market_price</th>\n",
       "      <th>type</th>\n",
       "      <th>rating</th>\n",
       "      <th>discount</th>\n",
       "    </tr>\n",
       "  </thead>\n",
       "  <tbody>\n",
       "    <tr>\n",
       "      <th>0</th>\n",
       "      <td>Garlic Oil - Vegetarian Capsule 500 mg</td>\n",
       "      <td>Beauty &amp; Hygiene</td>\n",
       "      <td>Hair Care</td>\n",
       "      <td>Sri Sri Ayurveda</td>\n",
       "      <td>220.0</td>\n",
       "      <td>220.0</td>\n",
       "      <td>Hair Oil &amp; Serum</td>\n",
       "      <td>4.1</td>\n",
       "      <td>0.0</td>\n",
       "    </tr>\n",
       "    <tr>\n",
       "      <th>1</th>\n",
       "      <td>Water Bottle - Orange</td>\n",
       "      <td>Kitchen, Garden &amp; Pets</td>\n",
       "      <td>Storage &amp; Accessories</td>\n",
       "      <td>Mastercook</td>\n",
       "      <td>180.0</td>\n",
       "      <td>180.0</td>\n",
       "      <td>Water &amp; Fridge Bottles</td>\n",
       "      <td>2.3</td>\n",
       "      <td>0.0</td>\n",
       "    </tr>\n",
       "    <tr>\n",
       "      <th>2</th>\n",
       "      <td>Brass Angle Deep - Plain, No.2</td>\n",
       "      <td>Cleaning &amp; Household</td>\n",
       "      <td>Pooja Needs</td>\n",
       "      <td>Trm</td>\n",
       "      <td>119.0</td>\n",
       "      <td>250.0</td>\n",
       "      <td>Lamp &amp; Lamp Oil</td>\n",
       "      <td>3.4</td>\n",
       "      <td>131.0</td>\n",
       "    </tr>\n",
       "    <tr>\n",
       "      <th>3</th>\n",
       "      <td>Cereal Flip Lid Container/Storage Jar - Assort...</td>\n",
       "      <td>Cleaning &amp; Household</td>\n",
       "      <td>Bins &amp; Bathroom Ware</td>\n",
       "      <td>Nakoda</td>\n",
       "      <td>149.0</td>\n",
       "      <td>176.0</td>\n",
       "      <td>Laundry, Storage Baskets</td>\n",
       "      <td>3.7</td>\n",
       "      <td>27.0</td>\n",
       "    </tr>\n",
       "    <tr>\n",
       "      <th>4</th>\n",
       "      <td>Creme Soft Soap - For Hands &amp; Body</td>\n",
       "      <td>Beauty &amp; Hygiene</td>\n",
       "      <td>Bath &amp; Hand Wash</td>\n",
       "      <td>Nivea</td>\n",
       "      <td>162.0</td>\n",
       "      <td>162.0</td>\n",
       "      <td>Bathing Bars &amp; Soaps</td>\n",
       "      <td>4.4</td>\n",
       "      <td>0.0</td>\n",
       "    </tr>\n",
       "  </tbody>\n",
       "</table>\n",
       "</div>"
      ],
      "text/plain": [
       "                                             product                category  \\\n",
       "0             Garlic Oil - Vegetarian Capsule 500 mg        Beauty & Hygiene   \n",
       "1                              Water Bottle - Orange  Kitchen, Garden & Pets   \n",
       "2                     Brass Angle Deep - Plain, No.2    Cleaning & Household   \n",
       "3  Cereal Flip Lid Container/Storage Jar - Assort...    Cleaning & Household   \n",
       "4                 Creme Soft Soap - For Hands & Body        Beauty & Hygiene   \n",
       "\n",
       "            sub_category              brand  sale_price  market_price  \\\n",
       "0              Hair Care  Sri Sri Ayurveda        220.0         220.0   \n",
       "1  Storage & Accessories         Mastercook       180.0         180.0   \n",
       "2            Pooja Needs                Trm       119.0         250.0   \n",
       "3   Bins & Bathroom Ware             Nakoda       149.0         176.0   \n",
       "4       Bath & Hand Wash              Nivea       162.0         162.0   \n",
       "\n",
       "                       type  rating  discount  \n",
       "0          Hair Oil & Serum     4.1       0.0  \n",
       "1    Water & Fridge Bottles     2.3       0.0  \n",
       "2           Lamp & Lamp Oil     3.4     131.0  \n",
       "3  Laundry, Storage Baskets     3.7      27.0  \n",
       "4      Bathing Bars & Soaps     4.4       0.0  "
      ]
     },
     "execution_count": 308,
     "metadata": {},
     "output_type": "execute_result"
    }
   ],
   "source": [
    "df.head()"
   ]
  },
  {
   "cell_type": "markdown",
   "id": "8be77d4f-c910-4557-a00e-8948c66d02a1",
   "metadata": {},
   "source": [
    "# --> After add Discount Column check describe"
   ]
  },
  {
   "cell_type": "code",
   "execution_count": 309,
   "id": "4aed550a-332d-40bd-abef-216717776b47",
   "metadata": {},
   "outputs": [
    {
     "data": {
      "text/html": [
       "<div>\n",
       "<style scoped>\n",
       "    .dataframe tbody tr th:only-of-type {\n",
       "        vertical-align: middle;\n",
       "    }\n",
       "\n",
       "    .dataframe tbody tr th {\n",
       "        vertical-align: top;\n",
       "    }\n",
       "\n",
       "    .dataframe thead th {\n",
       "        text-align: right;\n",
       "    }\n",
       "</style>\n",
       "<table border=\"1\" class=\"dataframe\">\n",
       "  <thead>\n",
       "    <tr style=\"text-align: right;\">\n",
       "      <th></th>\n",
       "      <th>sale_price</th>\n",
       "      <th>market_price</th>\n",
       "      <th>rating</th>\n",
       "      <th>discount</th>\n",
       "    </tr>\n",
       "  </thead>\n",
       "  <tbody>\n",
       "    <tr>\n",
       "      <th>count</th>\n",
       "      <td>5.000000</td>\n",
       "      <td>5.000000</td>\n",
       "      <td>5.000000</td>\n",
       "      <td>5.00000</td>\n",
       "    </tr>\n",
       "    <tr>\n",
       "      <th>mean</th>\n",
       "      <td>166.000000</td>\n",
       "      <td>197.600000</td>\n",
       "      <td>3.580000</td>\n",
       "      <td>31.60000</td>\n",
       "    </tr>\n",
       "    <tr>\n",
       "      <th>std</th>\n",
       "      <td>37.503333</td>\n",
       "      <td>36.370318</td>\n",
       "      <td>0.810555</td>\n",
       "      <td>56.78292</td>\n",
       "    </tr>\n",
       "    <tr>\n",
       "      <th>min</th>\n",
       "      <td>119.000000</td>\n",
       "      <td>162.000000</td>\n",
       "      <td>2.300000</td>\n",
       "      <td>0.00000</td>\n",
       "    </tr>\n",
       "    <tr>\n",
       "      <th>25%</th>\n",
       "      <td>149.000000</td>\n",
       "      <td>176.000000</td>\n",
       "      <td>3.400000</td>\n",
       "      <td>0.00000</td>\n",
       "    </tr>\n",
       "    <tr>\n",
       "      <th>50%</th>\n",
       "      <td>162.000000</td>\n",
       "      <td>180.000000</td>\n",
       "      <td>3.700000</td>\n",
       "      <td>0.00000</td>\n",
       "    </tr>\n",
       "    <tr>\n",
       "      <th>75%</th>\n",
       "      <td>180.000000</td>\n",
       "      <td>220.000000</td>\n",
       "      <td>4.100000</td>\n",
       "      <td>27.00000</td>\n",
       "    </tr>\n",
       "    <tr>\n",
       "      <th>max</th>\n",
       "      <td>220.000000</td>\n",
       "      <td>250.000000</td>\n",
       "      <td>4.400000</td>\n",
       "      <td>131.00000</td>\n",
       "    </tr>\n",
       "  </tbody>\n",
       "</table>\n",
       "</div>"
      ],
      "text/plain": [
       "       sale_price  market_price    rating   discount\n",
       "count    5.000000      5.000000  5.000000    5.00000\n",
       "mean   166.000000    197.600000  3.580000   31.60000\n",
       "std     37.503333     36.370318  0.810555   56.78292\n",
       "min    119.000000    162.000000  2.300000    0.00000\n",
       "25%    149.000000    176.000000  3.400000    0.00000\n",
       "50%    162.000000    180.000000  3.700000    0.00000\n",
       "75%    180.000000    220.000000  4.100000   27.00000\n",
       "max    220.000000    250.000000  4.400000  131.00000"
      ]
     },
     "execution_count": 309,
     "metadata": {},
     "output_type": "execute_result"
    }
   ],
   "source": [
    "df.describe()"
   ]
  },
  {
   "cell_type": "markdown",
   "id": "9099cfc4-b50e-4a68-9c35-d715e9cc6ca6",
   "metadata": {},
   "source": [
    "# --> Check Duplicated values"
   ]
  },
  {
   "cell_type": "code",
   "execution_count": 310,
   "id": "a71c516b-dea3-4c9a-97a3-dc7c2ec45007",
   "metadata": {},
   "outputs": [
    {
     "data": {
      "text/plain": [
       "np.int64(0)"
      ]
     },
     "execution_count": 310,
     "metadata": {},
     "output_type": "execute_result"
    }
   ],
   "source": [
    "df.duplicated().sum()"
   ]
  },
  {
   "cell_type": "markdown",
   "id": "7855ab9e-b88a-45b3-bc1a-705ed8546832",
   "metadata": {},
   "source": [
    "# --> Drop Nan Value"
   ]
  },
  {
   "cell_type": "code",
   "execution_count": 319,
   "id": "b5650ef3-2e14-4613-bdca-a89d4839edca",
   "metadata": {},
   "outputs": [],
   "source": [
    "df = df.dropna()"
   ]
  },
  {
   "cell_type": "markdown",
   "id": "bc02cd08-9f36-4c51-bda8-659aa4b366af",
   "metadata": {},
   "source": [
    "# --> Correlation"
   ]
  },
  {
   "cell_type": "code",
   "execution_count": 311,
   "id": "77c9c219-5468-4188-a3e9-778dec5313d1",
   "metadata": {},
   "outputs": [
    {
     "data": {
      "text/html": [
       "<div>\n",
       "<style scoped>\n",
       "    .dataframe tbody tr th:only-of-type {\n",
       "        vertical-align: middle;\n",
       "    }\n",
       "\n",
       "    .dataframe tbody tr th {\n",
       "        vertical-align: top;\n",
       "    }\n",
       "\n",
       "    .dataframe thead th {\n",
       "        text-align: right;\n",
       "    }\n",
       "</style>\n",
       "<table border=\"1\" class=\"dataframe\">\n",
       "  <thead>\n",
       "    <tr style=\"text-align: right;\">\n",
       "      <th></th>\n",
       "      <th>sale_price</th>\n",
       "      <th>market_price</th>\n",
       "      <th>rating</th>\n",
       "      <th>discount</th>\n",
       "    </tr>\n",
       "  </thead>\n",
       "  <tbody>\n",
       "    <tr>\n",
       "      <th>sale_price</th>\n",
       "      <td>1.000000</td>\n",
       "      <td>-0.181451</td>\n",
       "      <td>0.109380</td>\n",
       "      <td>-0.776690</td>\n",
       "    </tr>\n",
       "    <tr>\n",
       "      <th>market_price</th>\n",
       "      <td>-0.181451</td>\n",
       "      <td>1.000000</td>\n",
       "      <td>-0.059701</td>\n",
       "      <td>0.760357</td>\n",
       "    </tr>\n",
       "    <tr>\n",
       "      <th>rating</th>\n",
       "      <td>0.109380</td>\n",
       "      <td>-0.059701</td>\n",
       "      <td>1.000000</td>\n",
       "      <td>-0.110482</td>\n",
       "    </tr>\n",
       "    <tr>\n",
       "      <th>discount</th>\n",
       "      <td>-0.776690</td>\n",
       "      <td>0.760357</td>\n",
       "      <td>-0.110482</td>\n",
       "      <td>1.000000</td>\n",
       "    </tr>\n",
       "  </tbody>\n",
       "</table>\n",
       "</div>"
      ],
      "text/plain": [
       "              sale_price  market_price    rating  discount\n",
       "sale_price      1.000000     -0.181451  0.109380 -0.776690\n",
       "market_price   -0.181451      1.000000 -0.059701  0.760357\n",
       "rating          0.109380     -0.059701  1.000000 -0.110482\n",
       "discount       -0.776690      0.760357 -0.110482  1.000000"
      ]
     },
     "execution_count": 311,
     "metadata": {},
     "output_type": "execute_result"
    }
   ],
   "source": [
    "df.corr(numeric_only= True)"
   ]
  },
  {
   "cell_type": "code",
   "execution_count": 312,
   "id": "8f4c581f-9a6e-4b81-aebf-2cdc56f05e00",
   "metadata": {},
   "outputs": [
    {
     "data": {
      "text/plain": [
       "<Axes: >"
      ]
     },
     "execution_count": 312,
     "metadata": {},
     "output_type": "execute_result"
    },
    {
     "data": {
      "image/png": "[encoded data removed]",
      "text/plain": [
       "<Figure size 640x480 with 2 Axes>"
      ]
     },
     "metadata": {},
     "output_type": "display_data"
    }
   ],
   "source": [
    "sns.heatmap(df.corr(numeric_only=True),annot=True,cmap='viridis')"
   ]
  },
  {
   "cell_type": "markdown",
   "id": "9e1ed2b6-e365-4523-be51-b38dd0718716",
   "metadata": {},
   "source": [
    "# --> Create Visualizations"
   ]
  },
  {
   "cell_type": "code",
   "execution_count": 313,
   "id": "5b6740a5-0735-4810-93e2-e1031b4e91a8",
   "metadata": {
    "scrolled": true
   },
   "outputs": [
    {
     "data": {
      "image/png": "[encoded data removed]",
      "text/plain": [
       "<Figure size 640x480 with 1 Axes>"
      ]
     },
     "metadata": {},
     "output_type": "display_data"
    }
   ],
   "source": [
    "plt.hist('sale_price', bins=10, color='orange', edgecolor='black')\n",
    "plt.xlabel('Sale Price')\n",
    "plt.ylabel('Frequency')\n",
    "plt.title('Sale Price Distribution')\n",
    "plt.show()"
   ]
  },
  {
   "cell_type": "markdown",
   "id": "7841afd5-34cb-4e2f-a226-c611500a9b6f",
   "metadata": {},
   "source": [
    "## Distribution of Discounts"
   ]
  },
  {
   "cell_type": "code",
   "execution_count": 314,
   "id": "bcb1318e-4cbf-4cc5-b62c-6c2e4d3f50ed",
   "metadata": {
    "scrolled": true
   },
   "outputs": [
    {
     "data": {
      "image/png": "[encoded data removed]",
      "text/plain": [
       "<Figure size 1000x600 with 1 Axes>"
      ]
     },
     "metadata": {},
     "output_type": "display_data"
    }
   ],
   "source": [
    "plt.figure(figsize=(10, 6))\n",
    "plt.hist(df['discount'], bins=10, color='purple', edgecolor='black')\n",
    "plt.title('Distribution of Discounts')\n",
    "plt.xlabel('Discount')\n",
    "plt.ylabel('Frequency')\n",
    "plt.show()\n"
   ]
  },
  {
   "cell_type": "markdown",
   "id": "717a3d2c-4eb6-435d-b7bd-27d72a407216",
   "metadata": {},
   "source": [
    "## Category-wise Sales"
   ]
  },
  {
   "cell_type": "code",
   "execution_count": 315,
   "id": "a7f65fc1-2a42-466d-8c1f-a4cc66723a43",
   "metadata": {
    "scrolled": true
   },
   "outputs": [
    {
     "data": {
      "image/png": "[encoded data removed]",
      "text/plain": [
       "<Figure size 600x600 with 1 Axes>"
      ]
     },
     "metadata": {},
     "output_type": "display_data"
    }
   ],
   "source": [
    "plt.figure(figsize=(6, 6))\n",
    "df.groupby(\"category\")[\"sale_price\"].sum().plot.pie(autopct='%1.1f%%', cmap='coolwarm')\n",
    "plt.title(\"Category-wise Sales Distribution\")\n",
    "plt.ylabel(\"\")\n",
    "plt.show()\n"
   ]
  },
  {
   "cell_type": "markdown",
   "id": "6854ae33-345e-418d-9e64-a7369f571eb3",
   "metadata": {},
   "source": [
    "## Average Rating by Brand"
   ]
  },
  {
   "cell_type": "code",
   "execution_count": 316,
   "id": "937ba432-083d-4c90-92d7-7ead9dad819c",
   "metadata": {
    "scrolled": true
   },
   "outputs": [
    {
     "data": {
      "image/png": "[encoded data removed]",
      "text/plain": [
       "<Figure size 800x500 with 1 Axes>"
      ]
     },
     "metadata": {},
     "output_type": "display_data"
    }
   ],
   "source": [
    "plt.figure(figsize=(8, 5))\n",
    "sns.barplot(x=df.head(10)[\"brand\"], y=df[\"rating\"], palette=\"viridis\")\n",
    "plt.title(\"Average Rating by Brand\")\n",
    "plt.xlabel(\"Brand\")\n",
    "plt.ylabel(\"Rating\")\n",
    "plt.show()"
   ]
  },
  {
   "cell_type": "markdown",
   "id": "714eea7e-7659-4079-9b7c-a54a9260546a",
   "metadata": {},
   "source": [
    "## Discount Distribution By Frequency"
   ]
  },
  {
   "cell_type": "code",
   "execution_count": 317,
   "id": "abf64b80-a26e-4636-938c-8846a9a2e340",
   "metadata": {},
   "outputs": [
    {
     "data": {
      "image/png": "[encoded data removed]",
      "text/plain": [
       "<Figure size 800x500 with 1 Axes>"
      ]
     },
     "metadata": {},
     "output_type": "display_data"
    }
   ],
   "source": [
    "plt.figure(figsize=(8, 5))\n",
    "sns.histplot(df[\"discount\"], bins=5, kde=True)\n",
    "plt.title(\"Discount Distribution\")\n",
    "plt.xlabel(\"Discount %\")\n",
    "plt.ylabel(\"Frequency\")\n",
    "plt.show()"
   ]
  },
  {
   "cell_type": "markdown",
   "id": "7dae74a5-dd52-4d9e-9788-1c30d07c59f7",
   "metadata": {},
   "source": [
    "# --> Pair Plot"
   ]
  },
  {
   "cell_type": "code",
   "execution_count": 318,
   "id": "f6b2df40-33c0-4338-974c-2f72c97873a1",
   "metadata": {},
   "outputs": [
    {
     "data": {
      "image/png": "[encoded data removed]",
      "text/plain": [
       "<Figure size 1000x1000 with 20 Axes>"
      ]
     },
     "metadata": {},
     "output_type": "display_data"
    }
   ],
   "source": [
    "sns.pairplot( df , palette='pastel')\n",
    "plt.show()"
   ]
  },
  {
   "cell_type": "markdown",
   "id": "e5fe1832-9179-4444-951c-89cedef81d40",
   "metadata": {},
   "source": [
    "# --> Average  Sales "
   ]
  },
  {
   "cell_type": "code",
   "execution_count": 321,
   "id": "349c9d91-001d-4fb5-a0d0-b218f5187d05",
   "metadata": {},
   "outputs": [
    {
     "data": {
      "image/png": "[encoded data removed]",
      "text/plain": [
       "<Figure size 1000x600 with 1 Axes>"
      ]
     },
     "metadata": {},
     "output_type": "display_data"
    }
   ],
   "source": [
    "top_brands = df['brand'].value_counts().index[:15]\n",
    "plt.figure(figsize=(10,6))\n",
    "df[df['brand'].isin(top_brands)].groupby('brand')['sale_price'].mean().sort_values().plot(kind='barh', color='teal')\n",
    "plt.title('Avg Sale Price by Top 15 Brands')\n",
    "plt.xlabel('Average Sale Price')\n",
    "plt.show()"
   ]
  },
  {
   "cell_type": "markdown",
   "id": "437a9670-443a-4c79-9845-9459e0e732c4",
   "metadata": {},
   "source": [
    "# --> Product Rating"
   ]
  },
  {
   "cell_type": "code",
   "execution_count": 322,
   "id": "d08e13d3-71e5-443a-b0fc-f6999225d3a5",
   "metadata": {},
   "outputs": [
    {
     "data": {
      "image/png": "[encoded data removed]",
      "text/plain": [
       "<Figure size 800x500 with 1 Axes>"
      ]
     },
     "metadata": {},
     "output_type": "display_data"
    }
   ],
   "source": [
    "plt.figure(figsize=(8,5))\n",
    "sns.histplot(df['rating'], bins=20, kde=True, color='purple')\n",
    "plt.title('Product Rating Distribution')\n",
    "plt.xlabel('Rating')\n",
    "plt.show()"
   ]
  },
  {
   "cell_type": "markdown",
   "id": "a89a2758-ef2a-412b-be8d-afcb29380e00",
   "metadata": {},
   "source": [
    "# --> Average Discount by Category "
   ]
  },
  {
   "cell_type": "code",
   "execution_count": 323,
   "id": "62ae88e0-bf28-482f-a08d-13d47d1e4dec",
   "metadata": {},
   "outputs": [
    {
     "data": {
      "image/png": "[encoded data removed]",
      "text/plain": [
       "<Figure size 1000x600 with 1 Axes>"
      ]
     },
     "metadata": {},
     "output_type": "display_data"
    }
   ],
   "source": [
    "plt.figure(figsize=(10,6))\n",
    "df.groupby('category')['discount'].mean().sort_values().plot(kind='barh', color='skyblue')\n",
    "plt.title('Average Discount % by Category')\n",
    "plt.xlabel('Discount %')\n",
    "plt.show()"
   ]
  },
  {
   "cell_type": "markdown",
   "id": "ba3a947c",
   "metadata": {},
   "source": [
    "# 📈Conclusion\n",
    "\n",
    "# --> Customer Preferences Identified:\n",
    "#  -> The analysis helped identify the most preferred product categories, such as Fruits & Vegetables, Dairy, and Beverages, which consistently showed high order volumes and user engagement.\n",
    "\n",
    "# --> Sales and Demand Trends:\n",
    "#  -> Monthly and seasonal trends revealed that certain product categories peak during specific months, indicating that consumer buying behavior is influenced by festivals, weather, and availability.\n",
    "\n",
    "# --> Product Performance Insight:\n",
    "#  -> Several underperforming products were identified through low sales and high return rates. This information can guide the platform to consider removing or optimizing such listings.\n",
    "\n",
    "# --> Inventory & Stock Management:\n",
    "#  -> The analysis supports better inventory planning by highlighting fast-moving items and forecasting demand, helping Big Basket avoid both overstock and stockouts.\n",
    "\n",
    "# --> Business Recommendations:\n",
    "# -> Based on the data, Big Basket can enhance marketing strategies by targeting high-demand products, running seasonal promotions, and personalizing product recommendations based on user behavior."
   ]
  }
 ],
 "metadata": {
  "kernelspec": {
   "display_name": "Python 3 (ipykernel)",
   "language": "python",
   "name": "python3"
  },
  "language_info": {
   "codemirror_mode": {
    "name": "ipython",
    "version": 3
   },
   "file_extension": ".py",
   "mimetype": "text/x-python",
   "name": "python",
   "nbconvert_exporter": "python",
   "pygments_lexer": "ipython3",
   "version": "3.13.3"
  }
 },
 "nbformat": 4,
 "nbformat_minor": 5
}
